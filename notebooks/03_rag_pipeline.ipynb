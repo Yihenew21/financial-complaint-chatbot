{
 "cells": [
  {
   "cell_type": "code",
   "execution_count": 1,
   "id": "2c04350b",
   "metadata": {},
   "outputs": [],
   "source": [
    "# Import necessary libraries\n",
    "# sentence-transformers for embeddings, chromadb for vector store, langchain_community for LLM pipeline\n",
    "from sentence_transformers import SentenceTransformer\n",
    "import chromadb\n",
    "from langchain_community.llms import HuggingFacePipeline\n",
    "from transformers import AutoModelForSeq2SeqLM, AutoTokenizer, pipeline  # Changed to Seq2SeqLM for T5\n",
    "import pandas as pd\n",
    "\n",
    "# Note: Ensure requirements.txt includes langchain-community, transformers, torch, etc."
   ]
  },
  {
   "cell_type": "code",
   "execution_count": 2,
   "id": "abf27efd",
   "metadata": {},
   "outputs": [],
   "source": [
    "# Load the embedding model from Task 2\n",
    "# all-MiniLM-L6-v2 chosen for efficiency (384 dims, 0.5s/batch on 4-core CPU)\n",
    "embedding_model = SentenceTransformer('all-MiniLM-L6-v2')"
   ]
  },
  {
   "cell_type": "code",
   "execution_count": 3,
   "id": "9f667259",
   "metadata": {},
   "outputs": [],
   "source": [
    "# Initialize ChromaDB client and load the collection\n",
    "# Path points to the 3GB vector store from Task 2\n",
    "client = chromadb.PersistentClient(path=\"../data/embeddings/\")\n",
    "collection = client.get_collection(name=\"complaint_embeddings\")"
   ]
  },
  {
   "cell_type": "code",
   "execution_count": 4,
   "id": "08224df4",
   "metadata": {},
   "outputs": [
    {
     "name": "stdout",
     "output_type": "stream",
     "text": [
      "Error loading Mistral-7B: Invalid user token.. Trying flan-t5-large.\n"
     ]
    },
    {
     "name": "stderr",
     "output_type": "stream",
     "text": [
      "Device set to use cpu\n",
      "C:\\Users\\hp\\AppData\\Local\\Temp\\ipykernel_31676\\3160485573.py:19: LangChainDeprecationWarning: The class `HuggingFacePipeline` was deprecated in LangChain 0.0.37 and will be removed in 1.0. An updated version of the class exists in the :class:`~langchain-huggingface package and should be used instead. To use it run `pip install -U :class:`~langchain-huggingface` and import as `from :class:`~langchain_huggingface import HuggingFacePipeline``.\n",
      "  llm = HuggingFacePipeline(pipeline=pipe)\n"
     ]
    }
   ],
   "source": [
    "# Load LLM (attempt Mistral-7B with authentication, fallback to flan-t5-base, then OpenAI)\n",
    "# Mistral-7B requires Hugging Face access; flan-t5-base uses Seq2Seq; OpenAI needs API key\n",
    "from huggingface_hub import login\n",
    "try:\n",
    "    # Attempt to log in with your token (replace with your actual token)\n",
    "    login(token=\"place your hf token here\")  # Request access at https://huggingface.co/mistralai/Mixtral-7B-Instruct-v0.2\n",
    "    model_name = \"mistralai/Mistral-7B-Instruct-v0.2\"\n",
    "    tokenizer = AutoTokenizer.from_pretrained(model_name)\n",
    "    model = AutoModelForCausalLM.from_pretrained(model_name)  # CausalLM for Mistral\n",
    "    pipe = pipeline(\"text-generation\", model=model, tokenizer=tokenizer, max_new_tokens=200)\n",
    "    llm = HuggingFacePipeline(pipeline=pipe)\n",
    "except Exception as e1:\n",
    "    print(f\"Error loading Mistral-7B: {e1}. Trying flan-t5-large.\")\n",
    "    try:\n",
    "        model_name = \"google/flan-t5-large\"\n",
    "        tokenizer = AutoTokenizer.from_pretrained(model_name)\n",
    "        model = AutoModelForSeq2SeqLM.from_pretrained(model_name)  # Corrected for T5\n",
    "        pipe = pipeline(\"text2text-generation\", model=model, tokenizer=tokenizer, max_new_tokens=200)  # Changed pipeline type\n",
    "        llm = HuggingFacePipeline(pipeline=pipe)\n",
    "    except Exception as e2:\n",
    "        print(f\"Error loading flan-t5-base: {e2}. Using OpenAI API as final fallback.\")\n",
    "        from langchain_openai import OpenAI\n",
    "        llm = OpenAI(api_key=\"your-api-key-here\")  # Replace with your OpenAI API key"
   ]
  },
  {
   "cell_type": "code",
   "execution_count": 6,
   "id": "db71f0ab",
   "metadata": {},
   "outputs": [],
   "source": [
    "# Define retriever function\n",
    "# Retrieves top-k chunks based on query embedding, with optional product filter\n",
    "def retrieve_chunks(query: str, product_filter: str = None, k: int = 3) -> list:\n",
    "    query_embedding = embedding_model.encode([query])\n",
    "    product_map = {\n",
    "        \"credit cards\": \"Credit Cards\",\n",
    "        \"bnpl\": \"Buy Now, Pay Later (BNPL)\",\n",
    "        \"money transfers\": \"Money Transfers\",\n",
    "        \"personal loans\": \"Personal Loans\",\n",
    "        \"savings accounts\": \"Savings Accounts\"\n",
    "    }\n",
    "    if product_filter:\n",
    "        filter_product = product_map.get(product_filter.lower(), product_filter)\n",
    "        print(f\"Filtering for product: {filter_product}\")\n",
    "        results = collection.query(\n",
    "            query_embeddings=query_embedding,\n",
    "            where={\"mapped_product\": filter_product},\n",
    "            n_results=k\n",
    "        )\n",
    "        print(f\"Retrieved documents for {filter_product}: {results['documents'][0]}\")\n",
    "    else:\n",
    "        print(\"No product filter applied\")\n",
    "        results = collection.query(query_embeddings=query_embedding, n_results=k)\n",
    "    return results['documents'][0]"
   ]
  },
  {
   "cell_type": "code",
   "execution_count": 7,
   "id": "ea61b4d8",
   "metadata": {},
   "outputs": [],
   "source": [
    "# Define prompt template\n",
    "# Guides LLM to act as a financial analyst, using only provided context\n",
    "# Define prompt template (refined for clarity)\n",
    "prompt_template = \"\"\"\n",
    "You are a financial analyst assistant for CreditTrust. Your task is to analyze customer complaints based on the provided context.\n",
    "You MUST use ALL relevant details from the context to summarize the main issues or reasons for complaints in a clear, concise paragraph. Include at least one specific example (e.g., late fees, fraud disputes, payment timing issues) directly from the context. If the context is empty or completely irrelevant to the question, and only then, state: 'I don’t have enough information to provide a detailed answer.'\n",
    "Context: {context}\n",
    "Question: {question}\n",
    "Answer:\n",
    "\"\"\""
   ]
  },
  {
   "cell_type": "code",
   "execution_count": 8,
   "id": "d05993d1",
   "metadata": {},
   "outputs": [],
   "source": [
    "# Define generator function\n",
    "# Combines prompt, question, and chunks to generate response\n",
    "def generate_response(question: str, product_filter: str = None) -> str:\n",
    "    if llm is None:\n",
    "        return \"Model loading failed. No free fallback available.\"\n",
    "    chunks = retrieve_chunks(question, product_filter)\n",
    "    context = \"\\n\".join(chunks)\n",
    "    prompt = prompt_template.format(context=context, question=question)\n",
    "    response = llm(prompt)\n",
    "    return response"
   ]
  },
  {
   "cell_type": "code",
   "execution_count": 9,
   "metadata": {},
   "outputs": [],
   "source": [
    "# Test questions for evaluation\n",
    "# Covers all five product categories\n",
    "test_questions = [\n",
    "    \"Why are people unhappy with Credit Cards?\",\n",
    "    \"What are the main BNPL issues?\",\n",
    "    \"Are there fraud signals in Money Transfers?\",\n",
    "    \"What problems are reported with Personal Loans?\",\n",
    "    \"Why do customers complain about Savings Accounts?\",\n",
    "    \"How often do Credit Card complaints occur monthly?\",\n",
    "    \"What causes delays in BNPL payments?\"\n",
    "]"
   ]
  },
  {
   "cell_type": "code",
   "execution_count": 10,
   "id": "1762a529",
   "metadata": {},
   "outputs": [
    {
     "name": "stdout",
     "output_type": "stream",
     "text": [
      "Vector store contains 770308 documents. Validating unique entries...\n",
      "Estimated unique documents: 770308 (no duplicates detected)\n"
     ]
    }
   ],
   "source": [
    "# Debug: Validate vector store content and check for duplicates\n",
    "total_docs = collection.count()\n",
    "print(f\"Vector store contains {total_docs} documents. Validating unique entries...\")\n",
    "ids = collection.get()['ids']\n",
    "unique_ids = len(set(ids))\n",
    "print(f\"Estimated unique documents: {unique_ids} (no duplicates detected)\")"
   ]
  },
  {
   "cell_type": "code",
   "execution_count": 11,
   "metadata": {},
   "outputs": [
    {
     "name": "stdout",
     "output_type": "stream",
     "text": [
      "Filtering for product: Credit Cards\n",
      "Retrieved documents for Credit Cards: ['case description complaint made bank one subsidiaries elan financial services ultimately responsible well hidden policies created bank responsible party complaint solicitation received mail signed ent credit card offered elan financial servies division bank part reason getting card generous offered certain categories home utilities based solicitation decided get card selected categories incurred convenience fee order pay home utility colorado transaction posted called told obvious mistake would fixed fixed', 'suspected based two separate notifications believed sent counterfeit merchandise indeed item counterfeit asked notify local law enforcement give suspected counterfeit merchandise postal inspector believed knowingly shipping counterfeit items crime specifically code since per believed knowingly shipped counterfeit items per wanted nothing items since may counterfeit told synchrony bank would get back opened dispute without explanation information synchrony bank closed dispute charge counterfeit goods', 'barclay credit cards abruptly shut due call security hold review barclay credit card company requesting review tax returns credit score almost never late payment always pay balance end billing cycle card holder least years get answers get paperwork faxed want due one fax machine constantly busy five days straight matter time fax sent throughout hour period online access shut even review balance feel like getting done purposely using card quite often getting lot points making money extra interest rate']\n"
     ]
    },
    {
     "name": "stderr",
     "output_type": "stream",
     "text": [
      "C:\\Users\\hp\\AppData\\Local\\Temp\\ipykernel_31676\\1480524777.py:9: LangChainDeprecationWarning: The method `BaseLLM.__call__` was deprecated in langchain-core 0.1.7 and will be removed in 1.0. Use :meth:`~invoke` instead.\n",
      "  response = llm(prompt)\n"
     ]
    },
    {
     "name": "stdout",
     "output_type": "stream",
     "text": [
      "Filtering for product: Credit Cards\n",
      "Retrieved documents for Credit Cards: ['case description complaint made bank one subsidiaries elan financial services ultimately responsible well hidden policies created bank responsible party complaint solicitation received mail signed ent credit card offered elan financial servies division bank part reason getting card generous offered certain categories home utilities based solicitation decided get card selected categories incurred convenience fee order pay home utility colorado transaction posted called told obvious mistake would fixed fixed', 'suspected based two separate notifications believed sent counterfeit merchandise indeed item counterfeit asked notify local law enforcement give suspected counterfeit merchandise postal inspector believed knowingly shipping counterfeit items crime specifically code since per believed knowingly shipped counterfeit items per wanted nothing items since may counterfeit told synchrony bank would get back opened dispute without explanation information synchrony bank closed dispute charge counterfeit goods', 'barclay credit cards abruptly shut due call security hold review barclay credit card company requesting review tax returns credit score almost never late payment always pay balance end billing cycle card holder least years get answers get paperwork faxed want due one fax machine constantly busy five days straight matter time fax sent throughout hour period online access shut even review balance feel like getting done purposely using card quite often getting lot points making money extra interest rate']\n",
      "Filtering for product: Buy Now, Pay Later (BNPL)\n",
      "Retrieved documents for Buy Now, Pay Later (BNPL): ['reporting delinquent data without verifiable date first delinquency dofd must accurately reflect account status using standardized coding transunion failed creating materially misleading consumer report unfair practices cfpa violation actions also violate consumer financial protection act specifically prohibits deceptive unfair abusive acts practices udaap connection consumer financial products services continuing report unverifiable inaccurate data despite documented disputes legal protections transunion', 'consent done hereby consent equifax experian transunion whether verbal non verbal written implied otherwise revoked usc agencies never informed right exercise non disclosure option law commit crimes report adverse items report without permission usc states every consumer reporting agency shall maintain reasonable procedures designed avoid violations section title lint furnishing consumer reports purposes listed section title ferpa student loan removal agencies maintaining regulating proper procedures', 'perjury information provided affidavit true correct best knowledge request made good faith protect credit information confirmation request hereby request written confirmation receipt implementation security freeze request appreciate prompt attention matter sincerely']\n",
      "Filtering for product: Buy Now, Pay Later (BNPL)\n",
      "Retrieved documents for Buy Now, Pay Later (BNPL): ['reporting delinquent data without verifiable date first delinquency dofd must accurately reflect account status using standardized coding transunion failed creating materially misleading consumer report unfair practices cfpa violation actions also violate consumer financial protection act specifically prohibits deceptive unfair abusive acts practices udaap connection consumer financial products services continuing report unverifiable inaccurate data despite documented disputes legal protections transunion', 'consent done hereby consent equifax experian transunion whether verbal non verbal written implied otherwise revoked usc agencies never informed right exercise non disclosure option law commit crimes report adverse items report without permission usc states every consumer reporting agency shall maintain reasonable procedures designed avoid violations section title lint furnishing consumer reports purposes listed section title ferpa student loan removal agencies maintaining regulating proper procedures', 'perjury information provided affidavit true correct best knowledge request made good faith protect credit information confirmation request hereby request written confirmation receipt implementation security freeze request appreciate prompt attention matter sincerely']\n",
      "Filtering for product: Money Transfers\n",
      "Retrieved documents for Money Transfers: ['writing formally express concerns regarding zelle handling disputes particularly light recent cfpb lawsuit highlighting significant issues platform despite using zelle numerous times reporting discrepancies financial institution zelle failed investigate claims adequately informed recovering lost funds impossible tracking transactions unfeasible cfpb findings indicate zelle neglected protect consumers also allowed repeat offenders exploit system leaving users vulnerable scams lack accountability transparency', 'vulnerable scams lack accountability transparency unacceptable raises serious concerns consumer safety', 'crime occurred somewhere online either someone stolen personal info wallet back pack mail moving homes sure know know countless transactions charges card bank account approved filed reports bank requested need get resolved never situation like life bank locked online account even view information need along submittals denied provide information need told wait keep account open view info need close account mean person using personal info open accounts move money random account open loans name liquated fund']\n",
      "Filtering for product: Money Transfers\n",
      "Retrieved documents for Money Transfers: ['writing formally express concerns regarding zelle handling disputes particularly light recent cfpb lawsuit highlighting significant issues platform despite using zelle numerous times reporting discrepancies financial institution zelle failed investigate claims adequately informed recovering lost funds impossible tracking transactions unfeasible cfpb findings indicate zelle neglected protect consumers also allowed repeat offenders exploit system leaving users vulnerable scams lack accountability transparency', 'vulnerable scams lack accountability transparency unacceptable raises serious concerns consumer safety', 'crime occurred somewhere online either someone stolen personal info wallet back pack mail moving homes sure know know countless transactions charges card bank account approved filed reports bank requested need get resolved never situation like life bank locked online account even view information need along submittals denied provide information need told wait keep account open view info need close account mean person using personal info open accounts move money random account open loans name liquated fund']\n",
      "Filtering for product: Personal Loans\n",
      "Retrieved documents for Personal Loans: ['supplied pdfs truth lending disclosures along screenshot hold placed account finally understood issue said upgrading specialist would contact charge cleared bank finally received email response klarna incorrectly stated reported problem order paused payment schedule used find klarna customer service number spoke someone answers could transfer call specialist department said department would contact time frame previously days fed klarna called spoke customer service asked charge credit card want deal klarna', 'documented pay date shown paystubs respond received customer care via email need sufficient funds account cover repayment funds also later email correspondence going back forth stated system error detect incorrect pay date time working system unacceptable company lends money additionally several occasions via email asked requested contact information speak live human matter contact information provided customer support today date', 'platform gave alert may qualify personal loan know pay debt make big purchase alert told good chance based credit score obtaining small personal loan awaiting employer pay work done needed little help financially waiting point paid thought well sounds easy enough lets try went entire process spending hours putting information lifting freeze credit report providing lots documents like bank statements like wanted full bank statement deposits credits debits portion wanted itemized bank report license tax']\n",
      "Filtering for product: Personal Loans\n",
      "Retrieved documents for Personal Loans: ['supplied pdfs truth lending disclosures along screenshot hold placed account finally understood issue said upgrading specialist would contact charge cleared bank finally received email response klarna incorrectly stated reported problem order paused payment schedule used find klarna customer service number spoke someone answers could transfer call specialist department said department would contact time frame previously days fed klarna called spoke customer service asked charge credit card want deal klarna', 'documented pay date shown paystubs respond received customer care via email need sufficient funds account cover repayment funds also later email correspondence going back forth stated system error detect incorrect pay date time working system unacceptable company lends money additionally several occasions via email asked requested contact information speak live human matter contact information provided customer support today date', 'platform gave alert may qualify personal loan know pay debt make big purchase alert told good chance based credit score obtaining small personal loan awaiting employer pay work done needed little help financially waiting point paid thought well sounds easy enough lets try went entire process spending hours putting information lifting freeze credit report providing lots documents like bank statements like wanted full bank statement deposits credits debits portion wanted itemized bank report license tax']\n",
      "Filtering for product: Savings Accounts\n",
      "Retrieved documents for Savings Accounts: ['paycheck sent via direct deposit capital one checking account scrub deposit still posted account est called capital one customer service multiple times gotten answers one seems know issue resolved', 'hold first place cease unfair practices harm consumers issue resolved promptly escalate legal action including filing lawsuit small claims court request cfpb ftc investigate upgrade potential fraudulent deceptive business practices company name upgrade inc website www upgrade com', 'situation processed funds would returned instead received unexpected email stating account classified high risk result chase would freezing business account days closing permanently additionally chase froze worth pending transactions related legitimate business operations despite multiple attempts resolve situation told simply wait clear timeline assistance small business action devastating rely access funds operate daily pay employees serve customers freezing account without due process meaningful support']\n",
      "Filtering for product: Savings Accounts\n",
      "Retrieved documents for Savings Accounts: ['paycheck sent via direct deposit capital one checking account scrub deposit still posted account est called capital one customer service multiple times gotten answers one seems know issue resolved', 'hold first place cease unfair practices harm consumers issue resolved promptly escalate legal action including filing lawsuit small claims court request cfpb ftc investigate upgrade potential fraudulent deceptive business practices company name upgrade inc website www upgrade com', 'situation processed funds would returned instead received unexpected email stating account classified high risk result chase would freezing business account days closing permanently additionally chase froze worth pending transactions related legitimate business operations despite multiple attempts resolve situation told simply wait clear timeline assistance small business action devastating rely access funds operate daily pay employees serve customers freezing account without due process meaningful support']\n",
      "No product filter applied\n",
      "No product filter applied\n",
      "Filtering for product: Buy Now, Pay Later (BNPL)\n",
      "Retrieved documents for Buy Now, Pay Later (BNPL): ['reporting delinquent data without verifiable date first delinquency dofd must accurately reflect account status using standardized coding transunion failed creating materially misleading consumer report unfair practices cfpa violation actions also violate consumer financial protection act specifically prohibits deceptive unfair abusive acts practices udaap connection consumer financial products services continuing report unverifiable inaccurate data despite documented disputes legal protections transunion', 'consent done hereby consent equifax experian transunion whether verbal non verbal written implied otherwise revoked usc agencies never informed right exercise non disclosure option law commit crimes report adverse items report without permission usc states every consumer reporting agency shall maintain reasonable procedures designed avoid violations section title lint furnishing consumer reports purposes listed section title ferpa student loan removal agencies maintaining regulating proper procedures', 'perjury information provided affidavit true correct best knowledge request made good faith protect credit information confirmation request hereby request written confirmation receipt implementation security freeze request appreciate prompt attention matter sincerely']\n",
      "Filtering for product: Buy Now, Pay Later (BNPL)\n",
      "Retrieved documents for Buy Now, Pay Later (BNPL): ['reporting delinquent data without verifiable date first delinquency dofd must accurately reflect account status using standardized coding transunion failed creating materially misleading consumer report unfair practices cfpa violation actions also violate consumer financial protection act specifically prohibits deceptive unfair abusive acts practices udaap connection consumer financial products services continuing report unverifiable inaccurate data despite documented disputes legal protections transunion', 'consent done hereby consent equifax experian transunion whether verbal non verbal written implied otherwise revoked usc agencies never informed right exercise non disclosure option law commit crimes report adverse items report without permission usc states every consumer reporting agency shall maintain reasonable procedures designed avoid violations section title lint furnishing consumer reports purposes listed section title ferpa student loan removal agencies maintaining regulating proper procedures', 'perjury information provided affidavit true correct best knowledge request made good faith protect credit information confirmation request hereby request written confirmation receipt implementation security freeze request appreciate prompt attention matter sincerely']\n"
     ]
    }
   ],
   "source": [
    "# Generate responses and collect evaluation data\n",
    "# Matches questions to products for filtering\n",
    "evaluation_data = []\n",
    "for question in test_questions:\n",
    "    product_filter = next((p for p in [\"Credit Cards\", \"BNPL\", \"Money Transfers\", \"Personal Loans\", \"Savings Accounts\"] \n",
    "                         if p.lower() in question.lower()), None)\n",
    "    response = generate_response(question, product_filter=product_filter)\n",
    "    chunks = retrieve_chunks(question, product_filter=product_filter)\n",
    "    eval_entry = {\n",
    "        \"Question\": question,\n",
    "        \"Generated Answer\": response[:500] + \"...\" if len(response) > 500 else response,\n",
    "        \"Retrieved Sources\": chunks[:2],\n",
    "        \"Quality Score\": None,\n",
    "        \"Comments\": \"Pending review\"\n",
    "    }\n",
    "    evaluation_data.append(eval_entry)"
   ]
  },
  {
   "cell_type": "code",
   "execution_count": 13,
   "metadata": {},
   "outputs": [
    {
     "name": "stdout",
     "output_type": "stream",
     "text": [
      "\n",
      "Evaluation Table:\n",
      "| Question                                           | Generated Answer                                                                                                                                                                                                                                                                                                                                                                                                                                                                                                        | Retrieved Sources                                                                                                                                                                                                                                                                                                                                                                                                                                                                                                                                                                                                                                                                                                                                                                                                                                                                                                                                                                                                                                               | Quality Score   | Comments       |\n",
      "|:---------------------------------------------------|:------------------------------------------------------------------------------------------------------------------------------------------------------------------------------------------------------------------------------------------------------------------------------------------------------------------------------------------------------------------------------------------------------------------------------------------------------------------------------------------------------------------------|:----------------------------------------------------------------------------------------------------------------------------------------------------------------------------------------------------------------------------------------------------------------------------------------------------------------------------------------------------------------------------------------------------------------------------------------------------------------------------------------------------------------------------------------------------------------------------------------------------------------------------------------------------------------------------------------------------------------------------------------------------------------------------------------------------------------------------------------------------------------------------------------------------------------------------------------------------------------------------------------------------------------------------------------------------------------|:----------------|:---------------|\n",
      "| Why are people unhappy with Credit Cards?          | I don’t have enough information to provide a detailed answer.                                                                                                                                                                                                                                                                                                                                                                                                                                                           | ['case description complaint made bank one subsidiaries elan financial services ultimately responsible well hidden policies created bank responsible party complaint solicitation received mail signed ent credit card offered elan financial servies division bank part reason getting card generous offered certain categories home utilities based solicitation decided get card selected categories incurred convenience fee order pay home utility colorado transaction posted called told obvious mistake would fixed fixed', 'suspected based two separate notifications believed sent counterfeit merchandise indeed item counterfeit asked notify local law enforcement give suspected counterfeit merchandise postal inspector believed knowingly shipping counterfeit items crime specifically code since per believed knowingly shipped counterfeit items per wanted nothing items since may counterfeit told synchrony bank would get back opened dispute without explanation information synchrony bank closed dispute charge counterfeit goods'] |                 | Pending review |\n",
      "| What are the main BNPL issues?                     | reporting delinquent data without verifiable date first delinquency dofd must accurately reflect account status using standardized coding transunion failed creating materially misleading consumer report unfair practices cfpa violation actions also violate consumer financial protection act specifically prohibits deceptive unfair abusive acts practices udaap connection consumer financial products services continuing report unverifiable inaccurate data despite documented disputes legal protections ... | ['reporting delinquent data without verifiable date first delinquency dofd must accurately reflect account status using standardized coding transunion failed creating materially misleading consumer report unfair practices cfpa violation actions also violate consumer financial protection act specifically prohibits deceptive unfair abusive acts practices udaap connection consumer financial products services continuing report unverifiable inaccurate data despite documented disputes legal protections transunion', 'consent done hereby consent equifax experian transunion whether verbal non verbal written implied otherwise revoked usc agencies never informed right exercise non disclosure option law commit crimes report adverse items report without permission usc states every consumer reporting agency shall maintain reasonable procedures designed avoid violations section title lint furnishing consumer reports purposes listed section title ferpa student loan removal agencies maintaining regulating proper procedures'] |                 | Pending review |\n",
      "| Are there fraud signals in Money Transfers?        | I don’t have enough information to provide a detailed answer.                                                                                                                                                                                                                                                                                                                                                                                                                                                           | ['writing formally express concerns regarding zelle handling disputes particularly light recent cfpb lawsuit highlighting significant issues platform despite using zelle numerous times reporting discrepancies financial institution zelle failed investigate claims adequately informed recovering lost funds impossible tracking transactions unfeasible cfpb findings indicate zelle neglected protect consumers also allowed repeat offenders exploit system leaving users vulnerable scams lack accountability transparency', 'vulnerable scams lack accountability transparency unacceptable raises serious concerns consumer safety']                                                                                                                                                                                                                                                                                                                                                                                                                  |                 | Pending review |\n",
      "| What problems are reported with Personal Loans?    | I don’t have enough information to provide a detailed answer.                                                                                                                                                                                                                                                                                                                                                                                                                                                           | ['supplied pdfs truth lending disclosures along screenshot hold placed account finally understood issue said upgrading specialist would contact charge cleared bank finally received email response klarna incorrectly stated reported problem order paused payment schedule used find klarna customer service number spoke someone answers could transfer call specialist department said department would contact time frame previously days fed klarna called spoke customer service asked charge credit card want deal klarna', 'documented pay date shown paystubs respond received customer care via email need sufficient funds account cover repayment funds also later email correspondence going back forth stated system error detect incorrect pay date time working system unacceptable company lends money additionally several occasions via email asked requested contact information speak live human matter contact information provided customer support today date']                                                                        |                 | Pending review |\n",
      "| Why do customers complain about Savings Accounts?  | I don’t have enough information to provide a detailed answer.                                                                                                                                                                                                                                                                                                                                                                                                                                                           | ['paycheck sent via direct deposit capital one checking account scrub deposit still posted account est called capital one customer service multiple times gotten answers one seems know issue resolved', 'hold first place cease unfair practices harm consumers issue resolved promptly escalate legal action including filing lawsuit small claims court request cfpb ftc investigate upgrade potential fraudulent deceptive business practices company name upgrade inc website www upgrade com']                                                                                                                                                                                                                                                                                                                                                                                                                                                                                                                                                            |                 | Pending review |\n",
      "| How often do Credit Card complaints occur monthly? | I don’t have enough information to provide a detailed answer.                                                                                                                                                                                                                                                                                                                                                                                                                                                           | ['vulnerable scams lack accountability transparency unacceptable raises serious concerns consumer safety', 'transparent disclosures particularly cases involving disputed accounts ongoing misrepresentation account collectible despite knowledge fraudulent status constitutes multiple tila violations actionable statutory penalties relevance tila requirements found condemns action damages anothers good name similarly affirms right uphold ones honor integrity unjustly attacked misrepresentation obligations violates doctrine insists truth transparency rectification harm supporting tilas mandates final demand immediate']                                                                                                                                                                                                                                                                                                                                                                                                                    |                 | Pending review |\n",
      "| What causes delays in BNPL payments?               | I don’t have enough information to provide a detailed answer.                                                                                                                                                                                                                                                                                                                                                                                                                                                           | ['reporting delinquent data without verifiable date first delinquency dofd must accurately reflect account status using standardized coding transunion failed creating materially misleading consumer report unfair practices cfpa violation actions also violate consumer financial protection act specifically prohibits deceptive unfair abusive acts practices udaap connection consumer financial products services continuing report unverifiable inaccurate data despite documented disputes legal protections transunion', 'consent done hereby consent equifax experian transunion whether verbal non verbal written implied otherwise revoked usc agencies never informed right exercise non disclosure option law commit crimes report adverse items report without permission usc states every consumer reporting agency shall maintain reasonable procedures designed avoid violations section title lint furnishing consumer reports purposes listed section title ferpa student loan removal agencies maintaining regulating proper procedures'] |                 | Pending review |\n"
     ]
    }
   ],
   "source": [
    "# Create evaluation table\n",
    "eval_df = pd.DataFrame(evaluation_data)\n",
    "print(\"\\nEvaluation Table:\")\n",
    "print(eval_df.to_markdown(index=False))\n",
    "\n",
    "# Save evaluation data for report integration\n",
    "eval_df.to_csv(\"../data/evaluation_results.csv\", index=False)"
   ]
  }
 ],
 "metadata": {
  "kernelspec": {
   "display_name": "venv",
   "language": "python",
   "name": "python3"
  },
  "language_info": {
   "codemirror_mode": {
    "name": "ipython",
    "version": 3
   },
   "file_extension": ".py",
   "mimetype": "text/x-python",
   "name": "python",
   "nbconvert_exporter": "python",
   "pygments_lexer": "ipython3",
   "version": "3.13.3"
  }
 },
 "nbformat": 4,
 "nbformat_minor": 5
}
